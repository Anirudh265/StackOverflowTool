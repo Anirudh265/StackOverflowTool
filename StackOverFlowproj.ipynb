{
 "cells": [
  {
   "cell_type": "code",
   "execution_count": 3,
   "id": "922b8c4f",
   "metadata": {},
   "outputs": [
    {
     "name": "stdout",
     "output_type": "stream",
     "text": [
      "Searching for ZeroDivisionError\n",
      "Searching for  division by zero\n",
      "Searching for ZeroDivisionError: division by zero\n"
     ]
    }
   ],
   "source": [
    "from os import truncate\n",
    "import subprocess\n",
    "import requests\n",
    "import shlex\n",
    "import webbrowser\n",
    "\n",
    "\n",
    "out=shlex.split(\"python test.py\")\n",
    "p1=subprocess.Popen(out, stderr=subprocess.PIPE,stdout=subprocess.PIPE)\n",
    "out,err=p1.communicate()\n",
    "err=err.decode(\"utf-8\").strip().split(\"\\r\\n\")[-1]\n",
    "\n",
    "if err:\n",
    "    block=err.split(\":\")\n",
    "    json1 = req(block[0])\n",
    "    json2 = req(block[1])\n",
    "    json3 = req(err)\n",
    "    search(json1)\n",
    "    search(json2)\n",
    "    search(json3)\n",
    "    \n",
    "else:\n",
    "    print(\"No errors\")   \n",
    "    \n",
    "  \n",
    "\n",
    "  \n"
   ]
  },
  {
   "cell_type": "code",
   "execution_count": 2,
   "id": "0868eaf5",
   "metadata": {},
   "outputs": [],
   "source": [
    "def req(error):\n",
    "    print(\"Searching for \"+error)\n",
    "    resp  = requests.get(\"https://api.stackexchange.com/\"+\"2.2/search?order=desc&tagged=python&sort=activity&intitle={}&site=stackoverflow\".format(error))\n",
    "    return resp.json()"
   ]
  },
  {
   "cell_type": "code",
   "execution_count": 1,
   "id": "63be8b7d",
   "metadata": {},
   "outputs": [],
   "source": [
    "def search(json):\n",
    "    url_list = []\n",
    "    count = 0\n",
    "    for i in json['items']:\n",
    "        if i[\"is_answered\"]:\n",
    "            url_list.append(i[\"link\"])\n",
    "            count+=1\n",
    "            if count == 1:\n",
    "                break\n",
    "    \n",
    "    for i in url_list:\n",
    "        webbrowser.open(i)"
   ]
  },
  {
   "cell_type": "code",
   "execution_count": null,
   "id": "b9b938c8",
   "metadata": {},
   "outputs": [],
   "source": []
  },
  {
   "cell_type": "code",
   "execution_count": null,
   "id": "8fa1d0c1",
   "metadata": {},
   "outputs": [],
   "source": []
  }
 ],
 "metadata": {
  "kernelspec": {
   "display_name": "Python 3",
   "language": "python",
   "name": "python3"
  },
  "language_info": {
   "codemirror_mode": {
    "name": "ipython",
    "version": 3
   },
   "file_extension": ".py",
   "mimetype": "text/x-python",
   "name": "python",
   "nbconvert_exporter": "python",
   "pygments_lexer": "ipython3",
   "version": "3.8.8"
  }
 },
 "nbformat": 4,
 "nbformat_minor": 5
}
